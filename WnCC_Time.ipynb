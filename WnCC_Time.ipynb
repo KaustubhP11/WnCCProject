{
 "cells": [
  {
   "cell_type": "code",
   "execution_count": 47,
   "metadata": {},
   "outputs": [],
   "source": [
    "import numpy as np"
   ]
  },
  {
   "cell_type": "code",
   "execution_count": 48,
   "metadata": {},
   "outputs": [],
   "source": [
    "File=open('timestat.txt','r')"
   ]
  },
  {
   "cell_type": "code",
   "execution_count": 49,
   "metadata": {},
   "outputs": [],
   "source": [
    "x=[]#a matrix to readlines from the File\n"
   ]
  },
  {
   "cell_type": "code",
   "execution_count": 50,
   "metadata": {},
   "outputs": [],
   "source": [
    "for i in range(0,400):\n",
    "    x.append(0)\n",
    "    x[i]=File.readline()\n",
    "    \n",
    "\n"
   ]
  },
  {
   "cell_type": "code",
   "execution_count": 51,
   "metadata": {},
   "outputs": [],
   "source": [
    "store_real=[]\n",
    "store_user=[]\n",
    "store_sys=[]"
   ]
  },
  {
   "cell_type": "code",
   "execution_count": 52,
   "metadata": {},
   "outputs": [],
   "source": [
    "for i in range(1,400,4):\n",
    "    a=int(x[i][12])\n",
    "    b=int(x[i][13])\n",
    "    c=int(x[i][14])\n",
    "    d=int(x[i][10])\n",
    "    e=int(x[i][8])\n",
    "    store_real.append(a*(0.1)+b*(0.01)+c*(0.001)+d+e*60)"
   ]
  },
  {
   "cell_type": "code",
   "execution_count": 53,
   "metadata": {},
   "outputs": [],
   "source": [
    "for i in range(2,400,4):\n",
    "    a=int(x[i][12])\n",
    "    b=int(x[i][13])\n",
    "    c=int(x[i][14])\n",
    "    d=int(x[i][10])\n",
    "    e=int(x[i][8])\n",
    "    store_user.append(a*(0.1)+b*(0.01)+c*(0.001)+d+e*60)"
   ]
  },
  {
   "cell_type": "code",
   "execution_count": 54,
   "metadata": {},
   "outputs": [],
   "source": [
    "for i in range(3,400,4):\n",
    "    a=int(x[i][8])\n",
    "    b=int(x[i][9])\n",
    "    c=int(x[i][10])\n",
    "    d=int(x[i][6])\n",
    "    e=int(x[i][4])\n",
    "    store_sys.append(a*(0.1)+b*(0.01)+c*(0.001)+d+e*60)"
   ]
  },
  {
   "cell_type": "code",
   "execution_count": 55,
   "metadata": {},
   "outputs": [],
   "source": [
    "avg_real=np.mean(store_real)\n"
   ]
  },
  {
   "cell_type": "code",
   "execution_count": 56,
   "metadata": {},
   "outputs": [],
   "source": [
    "avg_user=np.mean(store_user)"
   ]
  },
  {
   "cell_type": "code",
   "execution_count": 57,
   "metadata": {},
   "outputs": [],
   "source": [
    "avg_sys=np.mean(store_sys)"
   ]
  },
  {
   "cell_type": "code",
   "execution_count": 58,
   "metadata": {},
   "outputs": [],
   "source": [
    "std_real=np.std(store_real)"
   ]
  },
  {
   "cell_type": "code",
   "execution_count": 59,
   "metadata": {},
   "outputs": [],
   "source": [
    "std_user=np.std(store_user)"
   ]
  },
  {
   "cell_type": "code",
   "execution_count": 60,
   "metadata": {},
   "outputs": [],
   "source": [
    "std_sys=np.std(store_sys)"
   ]
  },
  {
   "cell_type": "code",
   "execution_count": 61,
   "metadata": {},
   "outputs": [],
   "source": [
    "num_within_avg_real=0\n",
    "num_within_avg_user=0\n",
    "num_within_avg_sys=0\n",
    "num_runs=0\n",
    "for i in range(0,100):\n",
    "    num_runs+=1\n",
    "    if(abs(store_real[i]-avg_real)<=std_real):\n",
    "        num_within_avg_real+=1\n",
    "    if(abs(store_user[i]-avg_user)<=std_user):\n",
    "        num_within_avg_user+=1   \n",
    "    if(abs(store_sys[i]-avg_sys)<=std_sys):\n",
    "        num_within_avg_sys+=1   \n",
    "       "
   ]
  },
  {
   "cell_type": "code",
   "execution_count": 62,
   "metadata": {},
   "outputs": [
    {
     "name": "stdout",
     "output_type": "stream",
     "text": [
      "Number of runs :100\n",
      "Average Time statistics\n",
      "real 0.31921999999999995  user 0.27325000000000005  sys 0.0029600000000000004\n",
      "Standard deviation of Time statistics\n",
      "real 0.20161674434431284  user 0.009733832749744582  sys 0.00299305863624487\n",
      "Number of runs within (average - standard deviation) to (average + standard deviation)\n",
      "real 94  user 85  sys 86\n"
     ]
    }
   ],
   "source": [
    "print(\"Number of runs :\"+str(num_runs)+ \"\\nAverage Time statistics\\nreal \"+str(avg_real)+ \"  user \" +str(avg_user)+\"  sys \"+str(avg_sys)+'\\nStandard deviation of Time statistics\\nreal '+str(std_real)+ \"  user \" +str(std_user)+\"  sys \"+str(std_sys)+ '\\nNumber of runs within (average - standard deviation) to (average + standard deviation)\\nreal '+str(num_within_avg_real)+ \"  user \" +str(num_within_avg_user)+\"  sys \"+str(num_within_avg_sys))\n",
    "\n",
    "\n",
    "\n",
    "\n",
    "\n"
   ]
  },
  {
   "cell_type": "code",
   "execution_count": null,
   "metadata": {},
   "outputs": [],
   "source": []
  },
  {
   "cell_type": "code",
   "execution_count": null,
   "metadata": {},
   "outputs": [],
   "source": []
  }
 ],
 "metadata": {
  "kernelspec": {
   "display_name": "Python 3",
   "language": "python",
   "name": "python3"
  },
  "language_info": {
   "codemirror_mode": {
    "name": "ipython",
    "version": 3
   },
   "file_extension": ".py",
   "mimetype": "text/x-python",
   "name": "python",
   "nbconvert_exporter": "python",
   "pygments_lexer": "ipython3",
   "version": "3.7.4"
  }
 },
 "nbformat": 4,
 "nbformat_minor": 2
}
